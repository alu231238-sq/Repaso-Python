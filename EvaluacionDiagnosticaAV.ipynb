{
  "nbformat": 4,
  "nbformat_minor": 0,
  "metadata": {
    "colab": {
      "provenance": [],
      "authorship_tag": "ABX9TyNkmzs5SJvncctCMvPx+0ic",
      "include_colab_link": true
    },
    "kernelspec": {
      "name": "python3",
      "display_name": "Python 3"
    },
    "language_info": {
      "name": "python"
    }
  },
  "cells": [
    {
      "cell_type": "markdown",
      "metadata": {
        "id": "view-in-github",
        "colab_type": "text"
      },
      "source": [
        "<a href=\"https://colab.research.google.com/github/alu231238-sq/Repaso-Python/blob/main/EvaluacionDiagnosticaAV.ipynb\" target=\"_parent\"><img src=\"https://colab.research.google.com/assets/colab-badge.svg\" alt=\"Open In Colab\"/></a>"
      ]
    },
    {
      "cell_type": "code",
      "execution_count": null,
      "metadata": {
        "id": "IT6djDxmz-BV"
      },
      "outputs": [],
      "source": []
    },
    {
      "cell_type": "markdown",
      "source": [
        "1. Imprimir nombre, apellido paterno y materno"
      ],
      "metadata": {
        "id": "w7KSE8Rj1Pg-"
      }
    },
    {
      "cell_type": "code",
      "source": [
        "print (\"---Programa 1---\")\n",
        "print (\"Introduce tu nombre completo\")\n",
        "n= input(\" \")\n",
        "print (\"-------------------------\")\n",
        "print (\"Introduce tu apellido paterno\")\n",
        "p= input(\" \")\n",
        "print (\"-------------------------\")\n",
        "print (\"Introduce tu apellido materno\")\n",
        "m= input(\" \")\n",
        "print (\" \")\n",
        "print (n+(\" \")+p+(\" \")+m)"
      ],
      "metadata": {
        "colab": {
          "base_uri": "https://localhost:8080/"
        },
        "id": "W59aHV2j1iGd",
        "outputId": "a0d548ed-2b73-46e9-d24f-524958dd0b47"
      },
      "execution_count": 2,
      "outputs": [
        {
          "output_type": "stream",
          "name": "stdout",
          "text": [
            "Introduce tu nombre completo\n",
            " Airis Vianey\n",
            "-------------------------\n",
            "Introduce tu apellido paterno\n",
            " Villalobos\n",
            "-------------------------\n",
            "Introduce tu apellido materno\n",
            " Sosa\n",
            " \n",
            "Airis Vianey Villalobos Sosa\n"
          ]
        }
      ]
    },
    {
      "cell_type": "markdown",
      "source": [
        "2.  Capturar 2 números decimales e imprimir la suma"
      ],
      "metadata": {
        "id": "6lqc1UR32_UM"
      }
    },
    {
      "cell_type": "code",
      "source": [
        "print (\"---Programa 2---\")\n",
        "print (\"Introduce el primer numero\")\n",
        "n1= float(input(\" \"))\n",
        "print (\"Introduce el segundo numero\")\n",
        "n2= float(input(\" \"))\n",
        "print (\"--------- Resultado ------------\")\n",
        "suma=n1+n2\n",
        "print (suma)"
      ],
      "metadata": {
        "colab": {
          "base_uri": "https://localhost:8080/"
        },
        "id": "98g4aRgW3JUf",
        "outputId": "ae988992-fd65-483f-9d9a-aa737ae2d44d"
      },
      "execution_count": 5,
      "outputs": [
        {
          "output_type": "stream",
          "name": "stdout",
          "text": [
            "Introduce el primer numero\n",
            " 3.5\n",
            "Introduce el segundo numero\n",
            " 6.7\n",
            "--------- Resultado ------------\n",
            "10.2\n"
          ]
        }
      ]
    },
    {
      "cell_type": "markdown",
      "source": [
        "3. Calcular el área de un círculo"
      ],
      "metadata": {
        "id": "1j75zHJe4G8O"
      }
    },
    {
      "cell_type": "code",
      "source": [
        "print (\"---Programa 3---\")\n",
        "rad= float(input(\"Introduce el radio del circulo \"))\n",
        "a=(3.1416*rad*rad)\n",
        "print (\"Area: \",a)"
      ],
      "metadata": {
        "colab": {
          "base_uri": "https://localhost:8080/"
        },
        "id": "LrMEJ3IF4KWd",
        "outputId": "86208e45-22d2-4a60-ed5c-fc08943cdb91"
      },
      "execution_count": 11,
      "outputs": [
        {
          "output_type": "stream",
          "name": "stdout",
          "text": [
            "---Programa 3---\n",
            "Introduce el radio del circulo 5\n",
            "Area:  78.54\n"
          ]
        }
      ]
    },
    {
      "cell_type": "markdown",
      "source": [
        "4. Ejemplo de código y ventana resultante de semestre pasado."
      ],
      "metadata": {
        "id": "oeHeQMDT5VDz"
      }
    },
    {
      "cell_type": "markdown",
      "source": [
        "db.carros.find ({modelo:\"taurus\"})\n",
        "db.carros.find ({nocarro:\"43\"})\n",
        "db.carros.find ({nopuertas:\"4\"})\n",
        "db.carros.find ({color:\"negro\"})"
      ],
      "metadata": {
        "id": "_3P6xNWg5aqc"
      }
    }
  ]
}