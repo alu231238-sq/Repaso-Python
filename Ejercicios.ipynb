{
  "nbformat": 4,
  "nbformat_minor": 0,
  "metadata": {
    "colab": {
      "provenance": [],
      "authorship_tag": "ABX9TyPPfa301Pompv+oLdenNh6U",
      "include_colab_link": true
    },
    "kernelspec": {
      "name": "python3",
      "display_name": "Python 3"
    },
    "language_info": {
      "name": "python"
    }
  },
  "cells": [
    {
      "cell_type": "markdown",
      "metadata": {
        "id": "view-in-github",
        "colab_type": "text"
      },
      "source": [
        "<a href=\"https://colab.research.google.com/github/alu231238-sq/Repaso-Python/blob/main/Ejercicios.ipynb\" target=\"_parent\"><img src=\"https://colab.research.google.com/assets/colab-badge.svg\" alt=\"Open In Colab\"/></a>"
      ]
    },
    {
      "cell_type": "code",
      "execution_count": null,
      "metadata": {
        "id": "en0mcyrP5MnW"
      },
      "outputs": [],
      "source": []
    },
    {
      "cell_type": "markdown",
      "source": [
        "Ejercicios a desarrollar en Colab\n",
        "  1. Realizar un programa en phthon que te permita capturar 2 numeros enteros e imprimir la suma, la resta, la multiplicacion y la division de ambos\n",
        "\n",
        "  2. Realizar un programa en python mediante el cual calcules el total de caracteres que tiene un nombre capturado desde el teclado\n",
        "\n",
        "  3. Realizar un programa en python que permita imprimir los 7 dias de la semana"
      ],
      "metadata": {
        "id": "WnKr8L7a5P8z"
      }
    },
    {
      "cell_type": "markdown",
      "source": [
        "Ejercicio 1"
      ],
      "metadata": {
        "id": "tFSjOzoc6SVe"
      }
    },
    {
      "cell_type": "code",
      "source": [
        "print (\"----Calculadora----\")\n",
        "print (\"Introduce el primer numero\")\n",
        "n1=int(input(\" \"))\n",
        "print (\"Introduce el segundo numero\")\n",
        "n2=int(input(\" \"))\n",
        "print (\"--------- Resultados ------------\")\n",
        "suma=n1+n2\n",
        "print (\"Suma\")\n",
        "print (suma)\n",
        "print (\"----------------------\")\n",
        "resta=n1-n2\n",
        "print (\"Resta\")\n",
        "print (resta)\n",
        "print (\"----------------------\")\n",
        "multip=n1*n2\n",
        "print (\"Multiplicacion\")\n",
        "print (multip)\n",
        "print (\"----------------------\")\n",
        "divi=n1/n2\n",
        "print (\"Division\")\n",
        "print (divi)"
      ],
      "metadata": {
        "colab": {
          "base_uri": "https://localhost:8080/"
        },
        "id": "weU8Jeys6VD2",
        "outputId": "5600f03c-2f84-474c-c3ba-cf916a7fa527"
      },
      "execution_count": 16,
      "outputs": [
        {
          "output_type": "stream",
          "name": "stdout",
          "text": [
            "----Calculadora----\n",
            "Introduce el primer numero\n",
            " 20\n",
            "Introduce el segundo numero\n",
            " 5\n",
            "--------- Resultados ------------\n",
            "Suma\n",
            "25\n",
            "----------------------\n",
            "Resta\n",
            "15\n",
            "----------------------\n",
            "Multiplicacion\n",
            "100\n",
            "----------------------\n",
            "Division\n",
            "4.0\n"
          ]
        }
      ]
    },
    {
      "cell_type": "markdown",
      "source": [
        "Ejercicio 2"
      ],
      "metadata": {
        "id": "PGwtcdvc-Pq6"
      }
    },
    {
      "cell_type": "code",
      "source": [
        "print (\"Calculador de letras\")\n",
        "nom=input(\"Introduce tu nombre: \")\n",
        "total=len(nom)\n",
        "print(\"El total de caracteres es: \",total)"
      ],
      "metadata": {
        "colab": {
          "base_uri": "https://localhost:8080/"
        },
        "id": "JoQtuRv4-Ruy",
        "outputId": "37cd9a59-3c2a-4e84-a517-43697870fc72"
      },
      "execution_count": 24,
      "outputs": [
        {
          "output_type": "stream",
          "name": "stdout",
          "text": [
            "Calculador de letras\n",
            "Introduce tu nombre: avion\n",
            "El total de caracteres es:  5\n"
          ]
        }
      ]
    },
    {
      "cell_type": "markdown",
      "source": [
        "Ejercicio 3"
      ],
      "metadata": {
        "id": "cBlCm9fr-avp"
      }
    },
    {
      "cell_type": "code",
      "source": [
        "print (\"Los dias de la semana son:\")\n",
        "print (\"------------------------------\")\n",
        "l=(\"Lunes\")\n",
        "m=(\"Martes\")\n",
        "mi=(\"Miercoles\")\n",
        "j=(\"Jueves\")\n",
        "v=(\"Viernes\")\n",
        "s=(\"Sabado\")\n",
        "d=(\"Domingo\")\n",
        "print (l+(\", \")+m+(\", \")+mi+(\", \")+j+(\", \")+v+(\", \")+s+(\" y \")+d)"
      ],
      "metadata": {
        "colab": {
          "base_uri": "https://localhost:8080/"
        },
        "id": "nUsxC-_u-cQp",
        "outputId": "ffd16712-1ebf-4933-c9a4-901e21a8bc8e"
      },
      "execution_count": 21,
      "outputs": [
        {
          "output_type": "stream",
          "name": "stdout",
          "text": [
            "Los dias de la semana son:\n",
            "------------------------------\n",
            "Lunes, Martes, Miercoles, Jueves, Viernes, Sabado y Domingo\n"
          ]
        }
      ]
    }
  ]
}