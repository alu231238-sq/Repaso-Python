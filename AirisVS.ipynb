{
  "nbformat": 4,
  "nbformat_minor": 0,
  "metadata": {
    "colab": {
      "provenance": [],
      "authorship_tag": "ABX9TyPe1B4TW6xOxYhGzmd1TFaP",
      "include_colab_link": true
    },
    "kernelspec": {
      "name": "python3",
      "display_name": "Python 3"
    },
    "language_info": {
      "name": "python"
    }
  },
  "cells": [
    {
      "cell_type": "markdown",
      "metadata": {
        "id": "view-in-github",
        "colab_type": "text"
      },
      "source": [
        "<a href=\"https://colab.research.google.com/github/alu231238-sq/Repaso-Python/blob/main/AirisVS.ipynb\" target=\"_parent\"><img src=\"https://colab.research.google.com/assets/colab-badge.svg\" alt=\"Open In Colab\"/></a>"
      ]
    },
    {
      "cell_type": "code",
      "execution_count": null,
      "metadata": {
        "id": "DSyf1d6Sz60l"
      },
      "outputs": [],
      "source": []
    },
    {
      "cell_type": "markdown",
      "source": [
        "Programa 1 en Python para imprimir mi nombre con hola mundo"
      ],
      "metadata": {
        "id": "XzmaY0gC0wpR"
      }
    },
    {
      "cell_type": "code",
      "source": [
        "print (\"Hola mundo\")\n",
        "nombre=(input(\" Captura tu nombre\"))\n",
        "print (nombre)"
      ],
      "metadata": {
        "colab": {
          "base_uri": "https://localhost:8080/"
        },
        "id": "BlVpdZJD02sI",
        "outputId": "77d56714-38cd-4c82-b228-934ed1845660"
      },
      "execution_count": 4,
      "outputs": [
        {
          "output_type": "stream",
          "name": "stdout",
          "text": [
            "Hola mundo\n",
            " Captura tu nombre Airis\n",
            " Airis\n"
          ]
        }
      ]
    },
    {
      "cell_type": "code",
      "source": [],
      "metadata": {
        "id": "sSerWI3p1n5O"
      },
      "execution_count": null,
      "outputs": []
    },
    {
      "cell_type": "markdown",
      "source": [
        "Programa 2 capturar tu nombre paterno y materno e imprimirlo en pantalla"
      ],
      "metadata": {
        "id": "fvBk62XN1ds4"
      }
    },
    {
      "cell_type": "code",
      "source": [
        "print (\"Ingresa tu nombre completo\")\n",
        "n=input(\" \")\n",
        "print (\"---------------\")\n",
        "print (\"Ingresa tu apellido paterno\")\n",
        "p=input(\" \")\n",
        "print (\"---------------\")\n",
        "print (\"Ingresa tu apellido materno\")\n",
        "m=input(\" \")\n",
        "print (\"  \")\n",
        "print (n+(\" \")+p+(\" \")+m)"
      ],
      "metadata": {
        "colab": {
          "base_uri": "https://localhost:8080/"
        },
        "id": "yKxJC6PW1pBO",
        "outputId": "0d37b88d-dfb5-4829-fa33-7e2f917eb00f"
      },
      "execution_count": 8,
      "outputs": [
        {
          "output_type": "stream",
          "name": "stdout",
          "text": [
            "Ingresa tu nombre completo\n",
            " a\n",
            "---------------\n",
            "Ingresa tu apellido paterno\n",
            " a\n",
            "---------------\n",
            "Ingresa tu apellido materno\n",
            " a\n",
            "  \n",
            "a a a\n"
          ]
        }
      ]
    }
  ]
}